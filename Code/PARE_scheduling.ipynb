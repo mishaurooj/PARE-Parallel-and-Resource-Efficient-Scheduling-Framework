{
  "nbformat": 4,
  "nbformat_minor": 0,
  "metadata": {
    "colab": {
      "provenance": []
    },
    "kernelspec": {
      "name": "python3",
      "display_name": "Python 3"
    },
    "language_info": {
      "name": "python"
    }
  },
  "cells": [
    {
      "cell_type": "code",
      "execution_count": null,
      "metadata": {
        "id": "oGBSaQpeVRKt"
      },
      "outputs": [],
      "source": []
    },
    {
      "cell_type": "markdown",
      "source": [],
      "metadata": {
        "id": "N74yN-wBX1CZ"
      }
    },
    {
      "cell_type": "code",
      "source": [
        "import random\n",
        "import numpy as np\n",
        "import matplotlib.pyplot as plt\n",
        "import time\n",
        "\n",
        "class Node:\n",
        "    def __init__(self, id, neighbors):\n",
        "        self.id = id\n",
        "        self.neighbors = neighbors\n",
        "        self.p = 0.5  # initial probability of accessing the channel\n",
        "        self.packet_rate = 1  # current transmission packet rate\n",
        "        self.load = 1  # estimated data packet load\n",
        "        self.queue_length = []\n",
        "        self.markov_table = np.ones((10, 10))  # Initialize Markov table with uniform rewards\n",
        "\n",
        "    def markov_slot_selection(self, rx_slot):\n",
        "        \"\"\"\n",
        "        Markov decision process to isolate reception slots by punishing those slots to lower their rewards.\n",
        "        \"\"\"\n",
        "        self.markov_table[rx_slot, :] *= 0.1  # Punish reception slots\n",
        "        self.markov_table[:, rx_slot] *= 0.1\n",
        "\n",
        "    def flow_harmony(self, last_packet_received):\n",
        "        \"\"\"\n",
        "        Rewards transmission slot if a new packet is received afterwards\n",
        "        \"\"\"\n",
        "        if last_packet_received:\n",
        "            self.markov_table[self.current_tx_slot, :] += 1  # Reward transmission slot\n",
        "            self.markov_table[:, self.current_tx_slot] += 1\n",
        "\n",
        "    def update_prob(self, success_rate, collision_rate):\n",
        "        \"\"\"\n",
        "        Update probability of accessing the channel based on success and collision rates\n",
        "        \"\"\"\n",
        "        self.p = (1 - self.p) * success_rate / (1 - self.p * success_rate - collision_rate)\n",
        "\n",
        "    def update_packet_rate(self):\n",
        "        \"\"\"\n",
        "        Adjust the transmission packet rate based on the estimated data packet load.\n",
        "        \"\"\"\n",
        "        if len(self.queue_length) > 0:\n",
        "            avg_load = sum(self.queue_length) / len(self.queue_length)\n",
        "            if avg_load > self.load:\n",
        "                self.packet_rate += 1\n",
        "            elif avg_load < self.load:\n",
        "                self.packet_rate -= 1\n",
        "            self.load = avg_load\n",
        "\n",
        "    def transmit_packet(self):\n",
        "        \"\"\"\n",
        "        Simulate packet transmission with a probability of accessing the channel.\n",
        "        \"\"\"\n",
        "        if random.random() < self.p:\n",
        "            delay = random.randint(0, 100)  # Set a random delay for transmission\n",
        "            time.sleep(delay / 1000.0)  # Convert delay from ms to seconds\n",
        "            return True\n",
        "        else:\n",
        "            return False\n",
        "\n",
        "    def choose_tx_slot(self):\n",
        "        \"\"\"\n",
        "        Choose the slot with the highest reward to forward a received packet on to the next hop.\n",
        "        \"\"\"\n",
        "        self.current_tx_slot = np.random.choice(np.flatnonzero(self.markov_table == np.max(self.markov_table)))\n",
        "\n",
        "    def receive_packet(self, packet, rx_slot):\n",
        "        \"\"\"\n",
        "        Update markov table with reward for reception slot and perform Markov decision process for slot selection.\n",
        "        \"\"\"\n",
        "        self.markov_table[rx_slot, :] += 1  # Reward reception slot\n",
        "        self.markov_table[:, rx_slot] += 1\n",
        "        self.markov_slot_selection(rx_slot)\n",
        "        return packet"
      ],
      "metadata": {
        "id": "nQNV58wxX1Nz"
      },
      "execution_count": null,
      "outputs": []
    },
    {
      "cell_type": "code",
      "source": [
        "def PARE_scheduling(source_node, num_frames, num_packets=None, slot_size=None, coexisting_delays=None, large_action_space=False):\n",
        "    \"\"\"\n",
        "    Main function for PARE scheduling.\n",
        "    \"\"\"\n",
        "    nodes = [source_node] + source_node.neighbors\n",
        "    source_node.choose_tx_slot()  # Initialize the source node's transmission slot\n",
        "    action_list, state_list, reward_list, data_packet_list = [], [], [], []\n",
        "    energy_consumption_list = []\n",
        "\n",
        "    for frame in range(num_frames):\n",
        "        packets_to_transmit = False  # Flag to check if there are packets to transmit\n",
        "        for node in nodes:\n",
        "            if len(node.queue_length) > 0:\n",
        "                packets_to_transmit = True\n",
        "                node.choose_tx_slot()\n",
        "                packet = node.queue_length.pop(0)\n",
        "                action_list.append(node.transmission_slot)\n",
        "                state_list.append(get_state(nodes))\n",
        "                data_packet_list.append(packet)\n",
        "                for neighbor in node.neighbors:\n",
        "                    if neighbor.transmission_slot == node.transmission_slot:\n",
        "                        reward_list.append(-1)\n",
        "                    else:\n",
        "                        reward_list.append(1)\n",
        "                if len(reward_list) > 0:\n",
        "                    node.update_reward(reward_list[-1])\n",
        "\n",
        "        if not packets_to_transmit:  # Check if there are packets to transmit\n",
        "            break  # If not, break out of the loop\n",
        "\n",
        "        # Record the energy consumption for each frame\n",
        "        energy_consumption = 0\n",
        "        for node in nodes:\n",
        "          energy_consumption += node.transmission_rate * node.transmission_slot\n",
        "        energy_consumption_list.append(energy_consumption)\n",
        "\n",
        "        # Add additional packets to the queue if specified\n",
        "        if num_packets is not None:\n",
        "            for node in nodes:\n",
        "                node.queue_length += [i for i in range(num_packets)]\n",
        "\n",
        "        # Change the slot size if specified\n",
        "        if slot_size is not None:\n",
        "            for node in nodes:\n",
        "                node.slot_size = slot_size\n",
        "\n",
        "        # Change the coexisting delays if specified\n",
        "        if coexisting_delays is not None:\n",
        "            for node, delay in zip(nodes, coexisting_delays):\n",
        "                node.coexisting_delay = delay\n",
        "\n",
        "        # Change the action space if specified\n",
        "        if large_action_space:\n",
        "            for node in nodes:\n",
        "                node.action_space = range(node.slot_size)\n",
        "\n",
        "    return action_list, state_list, reward_list, data_packet_list, energy_consumption_list\n"
      ],
      "metadata": {
        "id": "39U8c1kHX6vX"
      },
      "execution_count": null,
      "outputs": []
    },
    {
      "cell_type": "code",
      "source": [
        "class Channel:\n",
        "    \"\"\"\n",
        "    A class representing the channel for data transmission.\n",
        "    \"\"\"\n",
        "    def __init__(self):\n",
        "        self.current_slot = 0\n",
        "        self.num_slots = 5\n",
        "\n",
        "    def increment_slot(self):\n",
        "        self.current_slot = (self.current_slot + 1) % self.num_slots\n"
      ],
      "metadata": {
        "id": "3S-8zFlGdFED"
      },
      "execution_count": null,
      "outputs": []
    },
    {
      "cell_type": "code",
      "source": [
        "def get_state(nodes):\n",
        "    \"\"\"\n",
        "    Helper function to get the current state of the network.\n",
        "    \"\"\"\n",
        "    state = []\n",
        "    for node in nodes:\n",
        "        state.append(node.transmission_slot)\n",
        "    return tuple(state)\n",
        "\n",
        "class Node:\n",
        "    \"\"\"\n",
        "    Class to represent a node in the network.\n",
        "    \"\"\"\n",
        "    def __init__(self, node_id, neighbors, queue_length):\n",
        "        self.node_id = node_id\n",
        "        self.neighbors = neighbors\n",
        "        self.queue_length = queue_length\n",
        "        self.reward = 0\n",
        "        self.transmission_slot = None\n",
        "\n",
        "    def choose_tx_slot(self):\n",
        "        \"\"\"\n",
        "        Choose the transmission slot with the highest reward.\n",
        "        \"\"\"\n",
        "        rewards = []\n",
        "        for slot in range(1, 6):\n",
        "            reward = sum([n.reward for n in self.neighbors if n.transmission_slot == slot])\n",
        "            rewards.append(reward)\n",
        "        best_slot = rewards.index(max(rewards)) + 1\n",
        "        self.transmission_slot = best_slot\n",
        "\n",
        "    def update_reward(self, reward):\n",
        "        \"\"\"\n",
        "        Update the node's reward.\n",
        "        \"\"\"\n",
        "        self.reward = 0.9 * self.reward + 0.1 * reward"
      ],
      "metadata": {
        "id": "zE8Yp72fYEo_"
      },
      "execution_count": null,
      "outputs": []
    },
    {
      "cell_type": "code",
      "source": [
        "# Create a network of nodes with different queue lengths, transmission rates, and probabilities of accessing the channel\n",
        "node1 = Node(1, [], [1, 2, 3, 4])\n",
        "node2 = Node(2, [node1], [1, 2, 3])\n",
        "node3 = Node(3, [node1, node2], [1, 2, 3, 4])\n",
        "node4 = Node(4, [node1, node3], [1, 2])\n",
        "\n",
        "# Run PARE_scheduling on the network for 10 frames\n",
        "action_list, state_list, reward_list, data_packet_list = PARE_scheduling(node1, 10)\n",
        "\n",
        "# Plot the number of packets transmitted over time\n",
        "plt.plot(range(len(data_packet_list)), data_packet_list)\n",
        "plt.xlabel(\"Time (frames)\")\n",
        "plt.ylabel(\"Number of packets transmitted\")\n",
        "plt.show()"
      ],
      "metadata": {
        "colab": {
          "base_uri": "https://localhost:8080/",
          "height": 356
        },
        "id": "GH2EVkmNYIXW",
        "outputId": "2d1ab830-fbf9-4443-f36e-5ae2275b1412"
      },
      "execution_count": null,
      "outputs": [
        {
          "output_type": "error",
          "ename": "AttributeError",
          "evalue": "ignored",
          "traceback": [
            "\u001b[0;31m---------------------------------------------------------------------------\u001b[0m",
            "\u001b[0;31mAttributeError\u001b[0m                            Traceback (most recent call last)",
            "\u001b[0;32m<ipython-input-32-a78861e2a331>\u001b[0m in \u001b[0;36m<cell line: 8>\u001b[0;34m()\u001b[0m\n\u001b[1;32m      6\u001b[0m \u001b[0;34m\u001b[0m\u001b[0m\n\u001b[1;32m      7\u001b[0m \u001b[0;31m# Run PARE_scheduling on the network for 10 frames\u001b[0m\u001b[0;34m\u001b[0m\u001b[0;34m\u001b[0m\u001b[0m\n\u001b[0;32m----> 8\u001b[0;31m \u001b[0maction_list\u001b[0m\u001b[0;34m,\u001b[0m \u001b[0mstate_list\u001b[0m\u001b[0;34m,\u001b[0m \u001b[0mreward_list\u001b[0m\u001b[0;34m,\u001b[0m \u001b[0mdata_packet_list\u001b[0m \u001b[0;34m=\u001b[0m \u001b[0mPARE_scheduling\u001b[0m\u001b[0;34m(\u001b[0m\u001b[0mnode1\u001b[0m\u001b[0;34m,\u001b[0m \u001b[0;36m10\u001b[0m\u001b[0;34m)\u001b[0m\u001b[0;34m\u001b[0m\u001b[0;34m\u001b[0m\u001b[0m\n\u001b[0m\u001b[1;32m      9\u001b[0m \u001b[0;34m\u001b[0m\u001b[0m\n\u001b[1;32m     10\u001b[0m \u001b[0;31m# Plot the number of packets transmitted over time\u001b[0m\u001b[0;34m\u001b[0m\u001b[0;34m\u001b[0m\u001b[0m\n",
            "\u001b[0;32m<ipython-input-29-f7e9f628fb69>\u001b[0m in \u001b[0;36mPARE_scheduling\u001b[0;34m(source_node, num_frames, num_packets, slot_size, coexisting_delays, large_action_space)\u001b[0m\n\u001b[1;32m     32\u001b[0m         \u001b[0menergy_consumption\u001b[0m \u001b[0;34m=\u001b[0m \u001b[0;36m0\u001b[0m\u001b[0;34m\u001b[0m\u001b[0;34m\u001b[0m\u001b[0m\n\u001b[1;32m     33\u001b[0m         \u001b[0;32mfor\u001b[0m \u001b[0mnode\u001b[0m \u001b[0;32min\u001b[0m \u001b[0mnodes\u001b[0m\u001b[0;34m:\u001b[0m\u001b[0;34m\u001b[0m\u001b[0;34m\u001b[0m\u001b[0m\n\u001b[0;32m---> 34\u001b[0;31m           \u001b[0menergy_consumption\u001b[0m \u001b[0;34m+=\u001b[0m \u001b[0mnode\u001b[0m\u001b[0;34m.\u001b[0m\u001b[0mtransmission_rate\u001b[0m \u001b[0;34m*\u001b[0m \u001b[0mnode\u001b[0m\u001b[0;34m.\u001b[0m\u001b[0mtransmission_slot\u001b[0m\u001b[0;34m\u001b[0m\u001b[0;34m\u001b[0m\u001b[0m\n\u001b[0m\u001b[1;32m     35\u001b[0m         \u001b[0menergy_consumption_list\u001b[0m\u001b[0;34m.\u001b[0m\u001b[0mappend\u001b[0m\u001b[0;34m(\u001b[0m\u001b[0menergy_consumption\u001b[0m\u001b[0;34m)\u001b[0m\u001b[0;34m\u001b[0m\u001b[0;34m\u001b[0m\u001b[0m\n\u001b[1;32m     36\u001b[0m \u001b[0;34m\u001b[0m\u001b[0m\n",
            "\u001b[0;31mAttributeError\u001b[0m: 'Node' object has no attribute 'transmission_rate'"
          ]
        }
      ]
    },
    {
      "cell_type": "code",
      "source": [
        "# Plot the probability of accessing the channel over time\n",
        "plt.plot(range(len(state_list)), [s[0] for s in state_list])\n",
        "plt.xlabel(\"Time (frames)\")\n",
        "plt.ylabel(\"Probability of accessing the channel\")\n",
        "plt.show()\n"
      ],
      "metadata": {
        "colab": {
          "base_uri": "https://localhost:8080/",
          "height": 449
        },
        "id": "9NPjBF_ca4ty",
        "outputId": "33f8e15b-00c5-43e0-bf6c-33003a09aaec"
      },
      "execution_count": null,
      "outputs": [
        {
          "output_type": "display_data",
          "data": {
            "text/plain": [
              "<Figure size 640x480 with 1 Axes>"
            ],
            "image/png": "[encoded data removed]"
          },
          "metadata": {}
        }
      ]
    },
    {
      "cell_type": "code",
      "source": [
        "import matplotlib.pyplot as plt\n",
        "import numpy as np\n",
        "\n",
        "# Create a network of nodes with different queue lengths, transmission rates, and probabilities of accessing the channel\n",
        "node1 = Node(1, [], [1, 2, 3, 4])\n",
        "node2 = Node(2, [node1], [1, 2, 3])\n",
        "node3 = Node(3, [node1, node2], [1, 2, 3, 4])\n",
        "node4 = Node(4, [node1, node3], [1, 2])\n",
        "\n",
        "# Experiment 1: Varying number of data packets\n",
        "num_frames = 100\n",
        "num_packets_list = [10, 20, 30, 40, 50]\n",
        "energy_consumption_list = []\n",
        "for num_packets in num_packets_list:\n",
        "    _, _, _, _, energy_consumption = PARE_scheduling(node1, num_frames, num_packets=num_packets)\n",
        "    energy_consumption_list.append(sum(energy_consumption))\n",
        "plt.plot(num_packets_list, energy_consumption_list)\n",
        "plt.xlabel(\"Number of data packets\")\n",
        "plt.ylabel\n"
      ],
      "metadata": {
        "colab": {
          "base_uri": "https://localhost:8080/",
          "height": 356
        },
        "id": "sMa2dgnUb7NM",
        "outputId": "417ae426-7511-40be-a966-2b0f356b2018"
      },
      "execution_count": null,
      "outputs": [
        {
          "output_type": "error",
          "ename": "AttributeError",
          "evalue": "ignored",
          "traceback": [
            "\u001b[0;31m---------------------------------------------------------------------------\u001b[0m",
            "\u001b[0;31mAttributeError\u001b[0m                            Traceback (most recent call last)",
            "\u001b[0;32m<ipython-input-33-10da4baaeca5>\u001b[0m in \u001b[0;36m<cell line: 14>\u001b[0;34m()\u001b[0m\n\u001b[1;32m     13\u001b[0m \u001b[0menergy_consumption_list\u001b[0m \u001b[0;34m=\u001b[0m \u001b[0;34m[\u001b[0m\u001b[0;34m]\u001b[0m\u001b[0;34m\u001b[0m\u001b[0;34m\u001b[0m\u001b[0m\n\u001b[1;32m     14\u001b[0m \u001b[0;32mfor\u001b[0m \u001b[0mnum_packets\u001b[0m \u001b[0;32min\u001b[0m \u001b[0mnum_packets_list\u001b[0m\u001b[0;34m:\u001b[0m\u001b[0;34m\u001b[0m\u001b[0;34m\u001b[0m\u001b[0m\n\u001b[0;32m---> 15\u001b[0;31m     \u001b[0m_\u001b[0m\u001b[0;34m,\u001b[0m \u001b[0m_\u001b[0m\u001b[0;34m,\u001b[0m \u001b[0m_\u001b[0m\u001b[0;34m,\u001b[0m \u001b[0m_\u001b[0m\u001b[0;34m,\u001b[0m \u001b[0menergy_consumption\u001b[0m \u001b[0;34m=\u001b[0m \u001b[0mPARE_scheduling\u001b[0m\u001b[0;34m(\u001b[0m\u001b[0mnode1\u001b[0m\u001b[0;34m,\u001b[0m \u001b[0mnum_frames\u001b[0m\u001b[0;34m,\u001b[0m \u001b[0mnum_packets\u001b[0m\u001b[0;34m=\u001b[0m\u001b[0mnum_packets\u001b[0m\u001b[0;34m)\u001b[0m\u001b[0;34m\u001b[0m\u001b[0;34m\u001b[0m\u001b[0m\n\u001b[0m\u001b[1;32m     16\u001b[0m     \u001b[0menergy_consumption_list\u001b[0m\u001b[0;34m.\u001b[0m\u001b[0mappend\u001b[0m\u001b[0;34m(\u001b[0m\u001b[0msum\u001b[0m\u001b[0;34m(\u001b[0m\u001b[0menergy_consumption\u001b[0m\u001b[0;34m)\u001b[0m\u001b[0;34m)\u001b[0m\u001b[0;34m\u001b[0m\u001b[0;34m\u001b[0m\u001b[0m\n\u001b[1;32m     17\u001b[0m \u001b[0mplt\u001b[0m\u001b[0;34m.\u001b[0m\u001b[0mplot\u001b[0m\u001b[0;34m(\u001b[0m\u001b[0mnum_packets_list\u001b[0m\u001b[0;34m,\u001b[0m \u001b[0menergy_consumption_list\u001b[0m\u001b[0;34m)\u001b[0m\u001b[0;34m\u001b[0m\u001b[0;34m\u001b[0m\u001b[0m\n",
            "\u001b[0;32m<ipython-input-29-f7e9f628fb69>\u001b[0m in \u001b[0;36mPARE_scheduling\u001b[0;34m(source_node, num_frames, num_packets, slot_size, coexisting_delays, large_action_space)\u001b[0m\n\u001b[1;32m     32\u001b[0m         \u001b[0menergy_consumption\u001b[0m \u001b[0;34m=\u001b[0m \u001b[0;36m0\u001b[0m\u001b[0;34m\u001b[0m\u001b[0;34m\u001b[0m\u001b[0m\n\u001b[1;32m     33\u001b[0m         \u001b[0;32mfor\u001b[0m \u001b[0mnode\u001b[0m \u001b[0;32min\u001b[0m \u001b[0mnodes\u001b[0m\u001b[0;34m:\u001b[0m\u001b[0;34m\u001b[0m\u001b[0;34m\u001b[0m\u001b[0m\n\u001b[0;32m---> 34\u001b[0;31m           \u001b[0menergy_consumption\u001b[0m \u001b[0;34m+=\u001b[0m \u001b[0mnode\u001b[0m\u001b[0;34m.\u001b[0m\u001b[0mtransmission_rate\u001b[0m \u001b[0;34m*\u001b[0m \u001b[0mnode\u001b[0m\u001b[0;34m.\u001b[0m\u001b[0mtransmission_slot\u001b[0m\u001b[0;34m\u001b[0m\u001b[0;34m\u001b[0m\u001b[0m\n\u001b[0m\u001b[1;32m     35\u001b[0m         \u001b[0menergy_consumption_list\u001b[0m\u001b[0;34m.\u001b[0m\u001b[0mappend\u001b[0m\u001b[0;34m(\u001b[0m\u001b[0menergy_consumption\u001b[0m\u001b[0;34m)\u001b[0m\u001b[0;34m\u001b[0m\u001b[0;34m\u001b[0m\u001b[0m\n\u001b[1;32m     36\u001b[0m \u001b[0;34m\u001b[0m\u001b[0m\n",
            "\u001b[0;31mAttributeError\u001b[0m: 'Node' object has no attribute 'transmission_rate'"
          ]
        }
      ]
    },
    {
      "cell_type": "code",
      "source": [],
      "metadata": {
        "id": "cM71LgpOb7_z"
      },
      "execution_count": null,
      "outputs": []
    }
  ]
}